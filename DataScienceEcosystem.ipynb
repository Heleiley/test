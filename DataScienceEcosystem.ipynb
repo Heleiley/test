{
 "cells": [
  {
   "cell_type": "markdown",
   "id": "08ea04ed-0075-4290-be2a-88f527fcc637",
   "metadata": {},
   "source": [
    "# Data Science Tools and Ecosystem\n"
   ]
  },
  {
   "cell_type": "markdown",
   "id": "d0575c17-3210-4694-ab57-17f54fd5b2ed",
   "metadata": {},
   "source": [
    "In this notebook, Data Science Tools and Ecosystem are summarized.\n"
   ]
  },
  {
   "cell_type": "markdown",
   "id": "3fcb98af-37fa-4359-b562-6f5cae32e8d5",
   "metadata": {},
   "source": [
    "**Objectives:**\n",
    "\n",
    " - List popular languages for Data Science.\n",
    " - Some of the commonly used libraries used by Data Scientists include:\n",
    " - Below are a few examples of evaluating arithmetic expressions in Python"
   ]
  },
  {
   "cell_type": "markdown",
   "id": "e501d8a9-27dc-4350-9759-92dcebe04bf1",
   "metadata": {},
   "source": [
    "Some of the popular languages that Data Scientists use are:\n",
    "1. First R.\n",
    "2. Second Python.\n",
    "3. Third SQL."
   ]
  },
  {
   "cell_type": "markdown",
   "id": "40a63172-3a22-4582-a5c5-379f481e97e1",
   "metadata": {},
   "source": [
    "Some of the commonly used libraries used by Data Scientists include:\n",
    "\n",
    "1.  Numpy.\n",
    "2.  Pandas.\n",
    "3.  Scikit-learn."
   ]
  },
  {
   "cell_type": "markdown",
   "id": "b678d114-5dcf-431f-a1e4-a1b7eddda7f0",
   "metadata": {},
   "source": [
    "|Data Science Tools|\n",
    "|------------------|\n",
    "|Wekas|\n",
    "|Pandas|\n",
    "|Hadoop|\n"
   ]
  },
  {
   "cell_type": "markdown",
   "id": "a4b84512-eb44-4ed7-8cae-f116a6dfd44b",
   "metadata": {},
   "source": [
    "### Below are a few examples of evaluating arithmetic expressions in Python\n",
    "\n",
    "|Examples|\n",
    "|--------|\n",
    "|x+y|\n",
    "|x/y|\n",
    "|x-y|"
   ]
  },
  {
   "cell_type": "code",
   "execution_count": 4,
   "id": "74498408-aafd-478d-a4c0-bf5a79d39ba5",
   "metadata": {
    "tags": []
   },
   "outputs": [
    {
     "data": {
      "text/plain": [
       "17"
      ]
     },
     "execution_count": 4,
     "metadata": {},
     "output_type": "execute_result"
    }
   ],
   "source": [
    "# This a simple arithmetic expression to mutiply then add integers\n",
    "(3*4)+5"
   ]
  },
  {
   "cell_type": "code",
   "execution_count": 6,
   "id": "cd232424-4143-47f4-aba9-198d91f27ab3",
   "metadata": {
    "tags": []
   },
   "outputs": [
    {
     "data": {
      "text/plain": [
       "3.3333333333333335"
      ]
     },
     "execution_count": 6,
     "metadata": {},
     "output_type": "execute_result"
    }
   ],
   "source": [
    "# This will convert 200 minutes to hours by diving by 60\n",
    "\n",
    "200/60"
   ]
  },
  {
   "cell_type": "markdown",
   "id": "62318a83-29f0-4750-9413-22e1eeb51b75",
   "metadata": {},
   "source": [
    "## Author\n",
    "   Esteban Orlando Oviedo Sandoval."
   ]
  },
  {
   "cell_type": "code",
   "execution_count": null,
   "id": "601f8399-5585-4ef4-a775-a9cb2ac10ee4",
   "metadata": {},
   "outputs": [],
   "source": []
  }
 ],
 "metadata": {
  "kernelspec": {
   "display_name": "Python",
   "language": "python",
   "name": "conda-env-python-py"
  },
  "language_info": {
   "codemirror_mode": {
    "name": "ipython",
    "version": 3
   },
   "file_extension": ".py",
   "mimetype": "text/x-python",
   "name": "python",
   "nbconvert_exporter": "python",
   "pygments_lexer": "ipython3",
   "version": "3.7.12"
  }
 },
 "nbformat": 4,
 "nbformat_minor": 5
}
